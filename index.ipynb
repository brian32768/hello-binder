{
 "cells": [
  {
   "cell_type": "code",
   "execution_count": 11,
   "metadata": {},
   "outputs": [
    {
     "data": {
      "text/plain": [
       "[<Item title:\"Základní mapy České republiky (S-JTSK)\" type:Web Map owner:Czech_user_community>,\n",
       " <Item title:\"True Geography of the London Underground\" type:Web Map owner:Esri_UK>,\n",
       " <Item title:\"Wander-Routen-Map - Landkreis Cham\" type:Web Map owner:LandkreisCham>,\n",
       " <Item title:\"ORADEA,AEROPORTURI,DISTANTA SI AGREMENT\" type:Web Map owner:EmiEmanuel>,\n",
       " <Item title:\"Arizona Timeline 1775 - Present\" type:Web Map owner:azExperience>,\n",
       " <Item title:\"The Commonwealth Map (Kentucky)\" type:Web Map owner:Kentucky_DGI>,\n",
       " <Item title:\"Dutch Topographic Basemap\" type:Web Map owner:jeroenvanwinden>,\n",
       " <Item title:\"A Children’s Map\" type:Web Map owner:esri_basemaps>,\n",
       " <Item title:\"Redlands Drinking Water Fountains (the original)\" type:Web Map owner:bjorn>,\n",
       " <Item title:\"Lietuvos dvarai ir pilys\" type:Web Map owner:_jurate_>]"
      ]
     },
     "execution_count": 11,
     "metadata": {},
     "output_type": "execute_result"
    }
   ],
   "source": [
    "import os\n",
    "from arcgis.gis import GIS\n",
    "gis = GIS(\"https://maps.arcgis.com\")\n",
    "some_maps = gis.content.search(query=\"*\", item_type=\"Web Map\", max_items=10)\n",
    "some_maps"
   ]
  },
  {
   "cell_type": "code",
   "execution_count": 13,
   "metadata": {},
   "outputs": [
    {
     "data": {
      "application/vnd.jupyter.widget-view+json": {
       "model_id": "90c893e52c234a44bce35b355efe3f71",
       "version_major": 2,
       "version_minor": 0
      },
      "text/plain": [
       "MapView(layout=Layout(height='400px', width='100%'))"
      ]
     },
     "metadata": {},
     "output_type": "display_data"
    },
    {
     "data": {
      "text/html": [
       "<div class=\"map-static-img-preview-737bc20e-9a37-483c-821c-b987a063ac71\"><img src=\"\"></img></div>"
      ],
      "text/plain": [
       "<IPython.core.display.HTML object>"
      ]
     },
     "metadata": {},
     "output_type": "display_data"
    },
    {
     "data": {
      "text/html": [
       "<div class=\"map-html-embed-preview-737bc20e-9a37-483c-821c-b987a063ac71\"></div>"
      ],
      "text/plain": [
       "<IPython.core.display.HTML object>"
      ]
     },
     "metadata": {},
     "output_type": "display_data"
    }
   ],
   "source": [
    "gis.map(some_maps[8])"
   ]
  },
  {
   "cell_type": "code",
   "execution_count": null,
   "metadata": {},
   "outputs": [],
   "source": []
  }
 ],
 "metadata": {
  "kernelspec": {
   "display_name": "Python 3.8.13 ('binder')",
   "language": "python",
   "name": "python3"
  },
  "language_info": {
   "codemirror_mode": {
    "name": "ipython",
    "version": 3
   },
   "file_extension": ".py",
   "mimetype": "text/x-python",
   "name": "python",
   "nbconvert_exporter": "python",
   "pygments_lexer": "ipython3",
   "version": "3.8.13"
  },
  "orig_nbformat": 4,
  "vscode": {
   "interpreter": {
    "hash": "bd9a4b3a5fdfcd7efc7e45ec9b5cd7f4c7838c459ddf4d1fa906becc813ae14b"
   }
  }
 },
 "nbformat": 4,
 "nbformat_minor": 2
}
